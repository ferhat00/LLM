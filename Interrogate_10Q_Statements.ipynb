{
 "cells": [
  {
   "cell_type": "code",
   "execution_count": 1,
   "metadata": {},
   "outputs": [],
   "source": [
    "# Load langchain libraries to load pdf and split text\n",
    "from langchain.document_loaders import PyPDFLoader\n",
    "from langchain.text_splitter import RecursiveCharacterTextSplitter"
   ]
  },
  {
   "cell_type": "code",
   "execution_count": 2,
   "metadata": {},
   "outputs": [],
   "source": [
    "# create a loader\n",
    "loader = PyPDFLoader(\"NVidia-10-Q.pdf\")\n",
    "\n",
    "# load your data\n",
    "data = loader.load()"
   ]
  },
  {
   "cell_type": "code",
   "execution_count": 3,
   "metadata": {},
   "outputs": [
    {
     "name": "stdout",
     "output_type": "stream",
     "text": [
      "You have 49 document(s) in your data\n",
      "There are 2657 characters in your document\n"
     ]
    }
   ],
   "source": [
    "print (f'You have {len(data)} document(s) in your data')\n",
    "print (f'There are {len(data[0].page_content)} characters in your document')"
   ]
  },
  {
   "cell_type": "code",
   "execution_count": 4,
   "metadata": {},
   "outputs": [
    {
     "name": "stdout",
     "output_type": "stream",
     "text": [
      "Now you have 791 documents\n"
     ]
    }
   ],
   "source": [
    "# Lets split the text into chunks\n",
    "text_splitter = RecursiveCharacterTextSplitter(chunk_size=500, chunk_overlap=300)\n",
    "texts = text_splitter.split_documents(data)\n",
    "\n",
    "print (f'Now you have {len(texts)} documents')"
   ]
  },
  {
   "cell_type": "code",
   "execution_count": 5,
   "metadata": {},
   "outputs": [
    {
     "name": "stderr",
     "output_type": "stream",
     "text": [
      "C:\\Users\\ferha\\AppData\\Local\\Packages\\PythonSoftwareFoundation.Python.3.11_qbz5n2kfra8p0\\LocalCache\\local-packages\\Python311\\site-packages\\pinecone\\index.py:4: TqdmWarning: IProgress not found. Please update jupyter and ipywidgets. See https://ipywidgets.readthedocs.io/en/stable/user_install.html\n",
      "  from tqdm.autonotebook import tqdm\n"
     ]
    }
   ],
   "source": [
    "# import libraries for vector db and embeddings\n",
    "from langchain.vectorstores import  Pinecone\n",
    "from langchain.embeddings.openai import OpenAIEmbeddings\n",
    "import pinecone"
   ]
  },
  {
   "cell_type": "code",
   "execution_count": 6,
   "metadata": {},
   "outputs": [],
   "source": [
    "import keyring\n",
    "import openai"
   ]
  },
  {
   "cell_type": "code",
   "execution_count": 7,
   "metadata": {},
   "outputs": [],
   "source": [
    "openai.organization = \"org-EEUV4gnLyXDJe82NmHgNkyo4\"\n",
    "OPENAI_API_KEY = keyring.get_password(\"openai\", openai.organization)\n",
    "\n",
    "PINECONE_API_ENV = \"gcp-starter\"\n",
    "PINECONE_API_KEY = keyring.get_password('pinecone', 'gcp-starter')"
   ]
  },
  {
   "cell_type": "code",
   "execution_count": 8,
   "metadata": {},
   "outputs": [],
   "source": [
    "# create embeddings\n",
    "embeddings = OpenAIEmbeddings(openai_api_key=OPENAI_API_KEY)"
   ]
  },
  {
   "cell_type": "code",
   "execution_count": 9,
   "metadata": {},
   "outputs": [],
   "source": [
    "# initialize pinecone\n",
    "pinecone.init(\n",
    "    api_key=PINECONE_API_KEY,  # find at app.pinecone.io\n",
    "    environment=PINECONE_API_ENV  # next to API key in console\n",
    ")\n",
    "\n",
    "index_name = \"pdf-index\" # put in the name of your pinecone index here"
   ]
  },
  {
   "cell_type": "code",
   "execution_count": 10,
   "metadata": {},
   "outputs": [],
   "source": [
    "# Create vector db\n",
    "docsearch = Pinecone.from_texts([t.page_content for t in texts], embeddings, index_name=index_name)"
   ]
  },
  {
   "cell_type": "code",
   "execution_count": 11,
   "metadata": {},
   "outputs": [],
   "source": [
    "# If already have index\n",
    "# docsearch = Pinecone.from_existing_index(index_name, embeddings)"
   ]
  },
  {
   "cell_type": "code",
   "execution_count": 11,
   "metadata": {},
   "outputs": [],
   "source": [
    "# Query simply question and return relevent chunks\n",
    "query = \"What is the total assets?\"\n",
    "docs = docsearch.similarity_search(query)"
   ]
  },
  {
   "cell_type": "code",
   "execution_count": 12,
   "metadata": {},
   "outputs": [
    {
     "data": {
      "text/plain": [
       "[Document(page_content='Marketable securities 10,241 9,907 \\nAccounts receivable, net 4,080 3,827 \\nInventories 4,611 5,159 \\nPrepaid expenses and other current assets 872 791 \\nTotal current assets 24,883 23,073 \\nProperty and equipment, net 3,740 3,807 \\nOperating lease assets 1,094 1,038 \\nGoodwill 4,430 4,372 \\nIntangible assets, net 1,541 1,676 \\nDeferred income tax assets 4,568 3,396 \\nOther assets 4,204 3,820 \\nTotal assets $ 44,460 $ 41,182 \\nLIABILITIES AND SHAREHOLDERS’ EQUITY   \\nCurrent liabilities:', metadata={}),\n",
       " Document(page_content='Property and equipment, net 3,740 3,807 \\nOperating lease assets 1,094 1,038 \\nGoodwill 4,430 4,372 \\nIntangible assets, net 1,541 1,676 \\nDeferred income tax assets 4,568 3,396 \\nOther assets 4,204 3,820 \\nTotal assets $ 44,460 $ 41,182 \\nLIABILITIES AND SHAREHOLDERS’ EQUITY   \\nCurrent liabilities:   \\nAccounts payable $ 1,141 $ 1,193 \\nAccrued and other current liabilities 4,869 4,120 \\nShort-term debt 1,250 1,250 \\nTotal current liabilities 7,260 6,563 \\nLong-term debt 9,704 9,703', metadata={}),\n",
       " Document(page_content='Assets\\nCash equivalents and marketable securities:\\nMoney market funds Level 1 $ 1,502 $ 1,777 \\nCorporate debt securities Level 2 $ 6,716 $ 4,797 \\nDebt securities issued by the U.S. Treasury Level 2 $ 3,967 $ 4,142 \\nDebt securities issued by U.S. government agencies Level 2 $ 2,442 $ 1,834 \\nCertificates of deposit Level 2 $ 395 $ 365 \\nForeign government bonds Level 2 $ 49 $ 140 \\nOther assets (Investment in non-affiliated entities):\\nPublicly-held equity securities (1) Level 1 $ 9 $ 11', metadata={}),\n",
       " Document(page_content='Total assets $ 44,460 $ 41,182 \\nLIABILITIES AND SHAREHOLDERS’ EQUITY   \\nCurrent liabilities:   \\nAccounts payable $ 1,141 $ 1,193 \\nAccrued and other current liabilities 4,869 4,120 \\nShort-term debt 1,250 1,250 \\nTotal current liabilities 7,260 6,563 \\nLong-term debt 9,704 9,703 \\nLong-term operating lease liabilities 939 902 \\nOther long-term liabilities 2,037 1,913 \\nTotal liabilities 19,940 19,081 \\nCommitments and contingencies - see Note 13\\nShareholders’ equity:   \\nPreferred stock — —', metadata={})]"
      ]
     },
     "execution_count": 12,
     "metadata": {},
     "output_type": "execute_result"
    }
   ],
   "source": [
    "docs"
   ]
  },
  {
   "cell_type": "code",
   "execution_count": 13,
   "metadata": {},
   "outputs": [],
   "source": [
    "from langchain.chat_models import ChatOpenAI\n",
    "llm = ChatOpenAI(model_name='gpt-3.5-turbo', temperature=0.7, openai_api_key = OPENAI_API_KEY)"
   ]
  },
  {
   "cell_type": "code",
   "execution_count": 14,
   "metadata": {},
   "outputs": [],
   "source": [
    "from langchain.chains import RetrievalQA\n",
    "\n",
    "qa_chain = RetrievalQA.from_chain_type(\n",
    "    llm,\n",
    "    retriever=docsearch.as_retriever()\n",
    ")"
   ]
  },
  {
   "cell_type": "code",
   "execution_count": 15,
   "metadata": {},
   "outputs": [
    {
     "data": {
      "text/plain": [
       "'The total assets are $44,460.'"
      ]
     },
     "execution_count": 15,
     "metadata": {},
     "output_type": "execute_result"
    }
   ],
   "source": [
    "result = qa_chain({\"query\": query})\n",
    "result[\"result\"]"
   ]
  },
  {
   "cell_type": "code",
   "execution_count": 16,
   "metadata": {},
   "outputs": [
    {
     "data": {
      "text/plain": [
       "'Some of the biggest risks for Nvidia as a business include investment risks, potential negative impacts from climate change concerns, challenges in obtaining future design wins, failure to provide value to customers and partners, and adverse economic conditions. These risks could harm their business, financial condition, results of operations, and reputation, potentially leading to a decline in their stock price.'"
      ]
     },
     "execution_count": 16,
     "metadata": {},
     "output_type": "execute_result"
    }
   ],
   "source": [
    "query = \"What are the biggest risks for Nvidia as a business?\"\n",
    "docs = docsearch.similarity_search(query)\n",
    "result = qa_chain({\"query\": query})\n",
    "result[\"result\"]"
   ]
  },
  {
   "cell_type": "code",
   "execution_count": 17,
   "metadata": {},
   "outputs": [
    {
     "data": {
      "text/plain": [
       "\"NVIDIA has several competitors in different segments of its business. In the gaming and PC graphics segment, its main competitors are AMD and Intel. In the data center and AI segment, its competitors include Intel, AMD, and companies like IBM and Google. In the autonomous vehicles and robotics segment, some of its competitors are Intel, Qualcomm, and Tesla. It's important to note that the competitive landscape can change over time due to technological advancements and market dynamics.\""
      ]
     },
     "execution_count": 17,
     "metadata": {},
     "output_type": "execute_result"
    }
   ],
   "source": [
    "query = \"Who are Nvidia competitors?\"\n",
    "docs = docsearch.similarity_search(query)\n",
    "result = qa_chain({\"query\": query})\n",
    "result[\"result\"]"
   ]
  },
  {
   "cell_type": "code",
   "execution_count": null,
   "metadata": {},
   "outputs": [],
   "source": []
  }
 ],
 "metadata": {
  "kernelspec": {
   "display_name": "Python 3",
   "language": "python",
   "name": "python3"
  },
  "language_info": {
   "codemirror_mode": {
    "name": "ipython",
    "version": 3
   },
   "file_extension": ".py",
   "mimetype": "text/x-python",
   "name": "python",
   "nbconvert_exporter": "python",
   "pygments_lexer": "ipython3",
   "version": "3.11.4"
  },
  "orig_nbformat": 4
 },
 "nbformat": 4,
 "nbformat_minor": 2
}
