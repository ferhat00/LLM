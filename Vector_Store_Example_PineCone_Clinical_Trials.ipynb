{
 "cells": [
  {
   "cell_type": "code",
   "execution_count": 1,
   "metadata": {},
   "outputs": [],
   "source": [
    "# PDF Loaders. If unstructured gives you a hard time, try PyPDFLoader\n",
    "from langchain.document_loaders import UnstructuredPDFLoader, OnlinePDFLoader, PyPDFLoader\n",
    "from langchain.text_splitter import RecursiveCharacterTextSplitter"
   ]
  },
  {
   "cell_type": "code",
   "execution_count": 3,
   "metadata": {},
   "outputs": [],
   "source": [
    "# create a loader\n",
    "loader = PyPDFLoader(\"Prot_SAP_000.pdf\")\n",
    "\n",
    "# load your data\n",
    "data = loader.load()"
   ]
  },
  {
   "cell_type": "code",
   "execution_count": 4,
   "metadata": {},
   "outputs": [
    {
     "name": "stdout",
     "output_type": "stream",
     "text": [
      "You have 94 document(s) in your data\n",
      "There are 1227 characters in your document\n"
     ]
    }
   ],
   "source": [
    "print (f'You have {len(data)} document(s) in your data')\n",
    "print (f'There are {len(data[0].page_content)} characters in your document')"
   ]
  },
  {
   "cell_type": "code",
   "execution_count": 5,
   "metadata": {},
   "outputs": [
    {
     "name": "stdout",
     "output_type": "stream",
     "text": [
      "Now you have 320 documents\n"
     ]
    }
   ],
   "source": [
    "text_splitter = RecursiveCharacterTextSplitter(chunk_size=1000, chunk_overlap=0)\n",
    "texts = text_splitter.split_documents(data)\n",
    "\n",
    "print (f'Now you have {len(texts)} documents')"
   ]
  },
  {
   "cell_type": "code",
   "execution_count": 7,
   "metadata": {},
   "outputs": [
    {
     "name": "stderr",
     "output_type": "stream",
     "text": [
      "C:\\Users\\ferha\\AppData\\Local\\Packages\\PythonSoftwareFoundation.Python.3.11_qbz5n2kfra8p0\\LocalCache\\local-packages\\Python311\\site-packages\\pinecone\\index.py:4: TqdmWarning: IProgress not found. Please update jupyter and ipywidgets. See https://ipywidgets.readthedocs.io/en/stable/user_install.html\n",
      "  from tqdm.autonotebook import tqdm\n"
     ]
    }
   ],
   "source": [
    "# import libraries\n",
    "from langchain.vectorstores import  Pinecone\n",
    "from langchain.embeddings.openai import OpenAIEmbeddings\n",
    "import pinecone"
   ]
  },
  {
   "cell_type": "code",
   "execution_count": 9,
   "metadata": {},
   "outputs": [],
   "source": [
    "import keyring\n",
    "import openai"
   ]
  },
  {
   "cell_type": "code",
   "execution_count": 16,
   "metadata": {},
   "outputs": [],
   "source": [
    "openai.organization = \"org-EEUV4gnLyXDJe82NmHgNkyo4\"\n",
    "OPENAI_API_KEY = keyring.get_password(\"openai\", openai.organization)\n",
    "\n",
    "PINECONE_API_ENV = \"gcp-starter\"\n",
    "PINECONE_API_KEY = keyring.get_password('pinecone', 'gcp-starter')"
   ]
  },
  {
   "cell_type": "code",
   "execution_count": 17,
   "metadata": {},
   "outputs": [],
   "source": [
    "# create embeddings\n",
    "embeddings = OpenAIEmbeddings(openai_api_key=OPENAI_API_KEY)"
   ]
  },
  {
   "cell_type": "code",
   "execution_count": 18,
   "metadata": {},
   "outputs": [],
   "source": [
    "# initialize pinecone\n",
    "pinecone.init(\n",
    "    api_key=PINECONE_API_KEY,  # find at app.pinecone.io\n",
    "    environment=PINECONE_API_ENV  # next to API key in console\n",
    ")\n",
    "\n",
    "index_name = \"pdf-index\" # put in the name of your pinecone index here"
   ]
  },
  {
   "cell_type": "code",
   "execution_count": 19,
   "metadata": {},
   "outputs": [],
   "source": [
    "docsearch = Pinecone.from_texts([t.page_content for t in texts], embeddings, index_name=index_name)"
   ]
  },
  {
   "cell_type": "code",
   "execution_count": null,
   "metadata": {},
   "outputs": [],
   "source": [
    "# If already have index\n",
    "# docsearch = Pinecone.from_existing_index(index_name, embeddings)"
   ]
  },
  {
   "cell_type": "code",
   "execution_count": 20,
   "metadata": {},
   "outputs": [],
   "source": [
    "query = \"What is the complexity of this clinical trial in terms of treatment arms?\"\n",
    "docs = docsearch.similarity_search(query)"
   ]
  },
  {
   "cell_type": "code",
   "execution_count": 22,
   "metadata": {},
   "outputs": [
    {
     "data": {
      "text/plain": [
       "[Document(page_content='population of subjects is 44%. The alternative hypothesis is that the PFS6 rate is 60%. Forty- two \\npatients per arm, expected to give 30 events, (this number includes the first 6 patients upon which safety was established) provide 81% power per arm for a log rank test, to detect this increase in PFS6, at a two -sided 5% significance level, assuming an exponential distribution and \\nthat en rollment will continue for 36 months with an additional 6 months of follow-up prior to the \\nfinal statistical analysis. Secondary outcomes include overall survival (OS) and objective response rate (ORR); median OS and 95% confidence interval will be estimated by the Kaplan - \\nMeier method and ORR will be an estimated percentage with 95% confidence interval. Toxicities will be graded and tabulated and Grade 3 or higher toxicity rates will be calculated. With 42 patients per arm, we have 88% power to detect any toxicity occurring at a rate of 5% or more.', metadata={}),\n",
       " Document(page_content='hypothesis of a PFS6 rate equal to 44% versus the alternative hypothesis of a PFS6 rate equal to 60% will be conducted. Per each arm: with 42 patients enrolled over 36 months and with 6 months of additional follow- up, there is 81% power for the test assuming exponential survival and 5% \\n2-sided type I error rate.  \\n \\nThis document is a protocol for a human research study. This study is to be conducted according to US and international standards of Good Clinical Practice (FDA Title 21 part 312 and International Conference on Harmonization guidelines), applicable government regulations and Institutional research policies and procedures.', metadata={}),\n",
       " Document(page_content='During the treatment phase (continuous 28 day cycles (Arm A) or continuous 21 day cycles (Arm B)), patients will be monitored for safety and efficacy. Assessments during the treatment phase will include AEs, ECOG performance status, concomitant medications and procedures, physical examination, vital signs and weight measurements, hematology and serum chemistry, serum or urine pregnancy (per investigator discretion) for women of childbearing potential, CA 19-9 measurement, blood samples for research analyses and study drug administration and accountability. An on-treatment tumor biopsy will be obtained if considered safe and feasible. A biopsy is not required if there appears to be no evidence of disease (complete remission).  \\nPatients w ill be assessed for disease status per RECIST v1.1 after every 2nd cycle of treatment \\n(Arm A) or every 3\\nrd cycle of treatment (Arm B). Patients will continue to receive treatment', metadata={}),\n",
       " Document(page_content='• To evaluate efficacy by assessment of objective response (RECIST v.1.1) in those with measurable disease and objective \\nresponse rate (ORR).To assess duration of response (DOR)  \\n• To evaluate overall survival  (OS)  \\nNumber of \\nSubjects  84 (42 patients per arm)', metadata={})]"
      ]
     },
     "execution_count": 22,
     "metadata": {},
     "output_type": "execute_result"
    }
   ],
   "source": [
    "docs"
   ]
  },
  {
   "cell_type": "code",
   "execution_count": 23,
   "metadata": {},
   "outputs": [],
   "source": [
    "from langchain.chat_models import ChatOpenAI\n",
    "llm = ChatOpenAI(model_name='gpt-3.5-turbo', temperature=0.7, openai_api_key = OPENAI_API_KEY)"
   ]
  },
  {
   "cell_type": "code",
   "execution_count": 24,
   "metadata": {},
   "outputs": [],
   "source": [
    "from langchain.chains import RetrievalQA\n",
    "\n",
    "qa_chain = RetrievalQA.from_chain_type(\n",
    "    llm,\n",
    "    retriever=docsearch.as_retriever()\n",
    ")"
   ]
  },
  {
   "cell_type": "code",
   "execution_count": 25,
   "metadata": {},
   "outputs": [
    {
     "data": {
      "text/plain": [
       "'This clinical trial has two treatment arms: Arm A and Arm B.'"
      ]
     },
     "execution_count": 25,
     "metadata": {},
     "output_type": "execute_result"
    }
   ],
   "source": [
    "result = qa_chain({\"query\": query})\n",
    "result[\"result\"]"
   ]
  },
  {
   "cell_type": "code",
   "execution_count": null,
   "metadata": {},
   "outputs": [],
   "source": []
  }
 ],
 "metadata": {
  "kernelspec": {
   "display_name": "Python 3",
   "language": "python",
   "name": "python3"
  },
  "language_info": {
   "codemirror_mode": {
    "name": "ipython",
    "version": 3
   },
   "file_extension": ".py",
   "mimetype": "text/x-python",
   "name": "python",
   "nbconvert_exporter": "python",
   "pygments_lexer": "ipython3",
   "version": "3.11.4"
  },
  "orig_nbformat": 4
 },
 "nbformat": 4,
 "nbformat_minor": 2
}
