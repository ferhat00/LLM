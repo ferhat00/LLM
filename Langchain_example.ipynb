{
 "cells": [
  {
   "cell_type": "code",
   "execution_count": 2,
   "metadata": {},
   "outputs": [],
   "source": [
    "import streamlit as st\n",
    "from langchain import OpenAI\n",
    "from langchain.docstore.document import Document\n",
    "from langchain.text_splitter import CharacterTextSplitter\n",
    "from langchain.chains.summarize import load_summarize_chain"
   ]
  },
  {
   "cell_type": "code",
   "execution_count": 3,
   "metadata": {},
   "outputs": [],
   "source": [
    "import keyring\n",
    "import openai"
   ]
  },
  {
   "cell_type": "code",
   "execution_count": 4,
   "metadata": {},
   "outputs": [],
   "source": [
    "openai.organization = \"org-EEUV4gnLyXDJe82NmHgNkyo4\"\n",
    "openai.api_key = keyring.get_password(\"openai\", openai.organization)\n",
    "openai_api_key = openai.api_key"
   ]
  },
  {
   "cell_type": "code",
   "execution_count": 5,
   "metadata": {},
   "outputs": [],
   "source": [
    "def generate_response(txt):\n",
    "    # Instantiate the LLM model\n",
    "    llm = OpenAI(temperature=0, openai_api_key=openai_api_key)\n",
    "    # Split text\n",
    "    text_splitter = CharacterTextSplitter()\n",
    "    texts = text_splitter.split_text(txt)\n",
    "    # Create multiple documents\n",
    "    docs = [Document(page_content=t) for t in texts]\n",
    "    # Text summarization\n",
    "    chain = load_summarize_chain(llm, chain_type='map_reduce')\n",
    "    return chain.run(docs)"
   ]
  },
  {
   "cell_type": "code",
   "execution_count": 6,
   "metadata": {},
   "outputs": [
    {
     "name": "stderr",
     "output_type": "stream",
     "text": [
      "2023-08-14 12:46:50.694 \n",
      "  \u001b[33m\u001b[1mWarning:\u001b[0m to view this Streamlit app on a browser, run it with the following\n",
      "  command:\n",
      "\n",
      "    streamlit run C:\\Users\\ferha\\AppData\\Local\\Packages\\PythonSoftwareFoundation.Python.3.11_qbz5n2kfra8p0\\LocalCache\\local-packages\\Python311\\site-packages\\ipykernel_launcher.py [ARGUMENTS]\n"
     ]
    }
   ],
   "source": [
    "st.set_page_config(page_title='🦜🔗 Text Summarization App')\n",
    "st.title('🦜🔗 Text Summarization App')\n",
    "\n",
    "# Text input\n",
    "txt_input = st.text_area('Enter your text', '', height=200)\n",
    "\n",
    "# Form to accept user's text input for summarization\n",
    "result = []\n",
    "with st.form('summarize_form', clear_on_submit=True):\n",
    "    openai_api_key = st.text_input('OpenAI API Key', type = 'password', disabled=not txt_input)\n",
    "    submitted = st.form_submit_button('Submit')\n",
    "    if submitted and openai_api_key.startswith('sk-'):\n",
    "        with st.spinner('Calculating...'):\n",
    "            response = generate_response(txt_input)\n",
    "            result.append(response)\n",
    "            del openai_api_key\n",
    "\n",
    "if len(result):\n",
    "    st.info(response)"
   ]
  }
 ],
 "metadata": {
  "kernelspec": {
   "display_name": "Python 3",
   "language": "python",
   "name": "python3"
  },
  "language_info": {
   "codemirror_mode": {
    "name": "ipython",
    "version": 3
   },
   "file_extension": ".py",
   "mimetype": "text/x-python",
   "name": "python",
   "nbconvert_exporter": "python",
   "pygments_lexer": "ipython3",
   "version": "3.11.4"
  },
  "orig_nbformat": 4
 },
 "nbformat": 4,
 "nbformat_minor": 2
}
